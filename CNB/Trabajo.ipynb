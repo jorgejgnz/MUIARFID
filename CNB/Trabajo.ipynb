{
  "nbformat": 4,
  "nbformat_minor": 0,
  "metadata": {
    "colab": {
      "name": "Trabajo.ipynb",
      "provenance": [],
      "collapsed_sections": []
    },
    "kernelspec": {
      "name": "python3",
      "display_name": "Python 3"
    },
    "language_info": {
      "name": "python"
    }
  },
  "cells": [
    {
      "cell_type": "markdown",
      "source": [
        "# Implementación"
      ],
      "metadata": {
        "id": "cOqD5q8o54_O"
      }
    },
    {
      "cell_type": "code",
      "source": [
        "# Comprueba que la molecula es completa\n",
        "def IsComplete(molecule, isComplementary):\n",
        "  # Comprobamos longitud\n",
        "  if len(molecule[0]) != len(molecule[1]):\n",
        "    return False\n",
        "  # Comprobamos que cumple la relación de complementariedad\n",
        "  for i, _ in enumerate(molecule[0]):\n",
        "    if not isComplementary(molecule[0][i],molecule[1][i]):\n",
        "      return False\n",
        "  return True"
      ],
      "metadata": {
        "id": "16DK-7yi6DTX"
      },
      "execution_count": 1,
      "outputs": []
    },
    {
      "cell_type": "code",
      "source": [
        "# Comprueba que todas las letras de la molecula pertenecen a V\n",
        "def IsFromVocabulary(molecule, V):\n",
        "  for i, _ in enumerate(molecule[0]):\n",
        "    if molecule[0][i] not in V:\n",
        "      return False\n",
        "    if molecule[1][i] not in V:\n",
        "      return False\n",
        "  return True"
      ],
      "metadata": {
        "id": "PZAEo3rm81Fn"
      },
      "execution_count": 2,
      "outputs": []
    },
    {
      "cell_type": "code",
      "source": [
        "# Comprueba que la molecula contiene el axioma\n",
        "def ContainsAxiom(molecule, A):\n",
        "  if A[0] not in molecule[0]:\n",
        "    return False\n",
        "  if A[1] not in molecule[1]:\n",
        "    return False\n",
        "  return True"
      ],
      "metadata": {
        "id": "xiZ6QTEZ9fkG"
      },
      "execution_count": 3,
      "outputs": []
    },
    {
      "cell_type": "code",
      "source": [
        "# Comprueba que el sistema de stickers es regular\n",
        "def IsRegular(D):\n",
        "  for d in D:\n",
        "    if d['l'][0] != \"\" or d['l'][1] != \"\":\n",
        "      return False\n",
        "  return False"
      ],
      "metadata": {
        "id": "CkxEfqrrjInu"
      },
      "execution_count": 4,
      "outputs": []
    },
    {
      "cell_type": "code",
      "source": [
        "def Apply(m, d):\n",
        "  dl0 = d['l'][0]\n",
        "  dl1 = d['l'][1]\n",
        "  dr0 = d['r'][0]\n",
        "  dr1 = d['r'][1]\n",
        "  m[0] = dl0 + m[0] + dr0\n",
        "  m[1] = dl1 + m[1] + dr1\n",
        "\n",
        "def Revert(m, d):\n",
        "  dl0 = d['l'][0]\n",
        "  dl1 = d['l'][1]\n",
        "  dr0 = d['r'][0]\n",
        "  dr1 = d['r'][1]\n",
        "  if m[0].startswith(dl0) and m[1].startswith(dl1) and m[0].endswith(dr0) and m[1].endswith(dr1):\n",
        "    if len(dl0) > 0: m[0] = m[0][len(dl0):]\n",
        "    if len(dl1) > 0: m[1] = m[1][len(dl1):]\n",
        "    if len(dr0) > 0: m[0] = m[0][:-len(dr0)]\n",
        "    if len(dr1) > 0: m[1] = m[1][:-len(dr1)]\n",
        "    return True\n",
        "  return False"
      ],
      "metadata": {
        "id": "TtpA866FAyG4"
      },
      "execution_count": 5,
      "outputs": []
    },
    {
      "cell_type": "code",
      "source": [
        "def TryRevert(p, m, di, D_applied):\n",
        "  A = p[\"A\"]\n",
        "  D = p[\"D\"]\n",
        "  #print(f\"Trying {str(D_applied + [di])}\")\n",
        "  successful = Revert(m, D[di])\n",
        "  if successful:\n",
        "    #print(f\"Reverted m:{str(m)} using d{di}:{str(D[di])}\")\n",
        "    D_applied.append(di)\n",
        "    di = 0\n",
        "    if m[0] is A[0] and m[1] is A[1]:\n",
        "      return 0, di, D_applied, \"Hemos llegado al axioma\"\n",
        "    if len(m[0]) == len(A[0]) or len(m[1]) == len(A[1]):\n",
        "      return OnFail(p, m, di, D_applied) # Hemos llegado a un posible axioma incorrecto\n",
        "    else:\n",
        "      return 2, di, D_applied, \"Continuar\"\n",
        "  else:\n",
        "    return OnFail(p, m, di, D_applied) # El domino elegido no se puede usar para revertir \n",
        "\n",
        "def OnFail(p, m, di, D_applied):\n",
        "  D = p[\"D\"]\n",
        "  di += 1\n",
        "  if di >= len(D): # Se han probado todos los dominos para este nivel\n",
        "    if len(D_applied) == 0:\n",
        "      return 1, di, D_applied, \"Todos los dominos probados son invalidos\"\n",
        "    else:\n",
        "      di = D_applied.pop()\n",
        "      Apply(m, D[di])\n",
        "      return OnFail(p, m, di, D_applied)\n",
        "  else:\n",
        "    return 2, di, D_applied, \"Continuar\""
      ],
      "metadata": {
        "id": "mkLYldQGDJHk"
      },
      "execution_count": 6,
      "outputs": []
    },
    {
      "cell_type": "code",
      "source": [
        "def AreDominoesCorrect(p, m0, D_applied):\n",
        "  D = p[\"D\"]\n",
        "  A = p[\"A\"]\n",
        "  m = list(m0)\n",
        "  print(m)\n",
        "  for di in D_applied:\n",
        "    successful = Revert(m,D[di])\n",
        "    if not successful:\n",
        "      return False, f\"No se puede revertir {m} usando {D[di]}\"\n",
        "    else:\n",
        "      print(f\"Revertido a {m} usando {D[di]}\")\n",
        "  if m[0] is A[0] and m[1] is A[1]:\n",
        "    return True, \"Hemos llegado al axioma\"\n",
        "  else:\n",
        "    return False, \"Hemos llegado a un resultado incorrecto\""
      ],
      "metadata": {
        "id": "JgjpVnyp_2Pq"
      },
      "execution_count": 7,
      "outputs": []
    },
    {
      "cell_type": "code",
      "source": [
        "def CanGenerate(p, m0, maxIterations):\n",
        "  D_applied = []\n",
        "  m = list(m0)\n",
        "  if not IsComplete(m, p[\"Y\"]):\n",
        "    return \"La molécula \" + str(m0) + \" no es completa\"\n",
        "  if not IsFromVocabulary(m, p[\"V\"]):\n",
        "    return \"La molécula \" + str(m0) + \" contiene caracteres que no están en el vocabulario\"\n",
        "  if not ContainsAxiom(m, p[\"A\"]):\n",
        "    return \"La molécula \" + str(m0) + \" no contiene al axioma\"\n",
        "\n",
        "  di = 0\n",
        "  for i in range(maxIterations):\n",
        "    result, di, D_applied, msg = TryRevert(p, m, di, D_applied)\n",
        "    if result == 1:\n",
        "      return \"El sistema no puede generar la molécula \" + str(m0)\n",
        "    if result == 0:\n",
        "      return \"El sistema genera la molécula \" + str(m0) + \" a partir del axioma \" + str(p[\"A\"]) + \" aplicando los dominoes \" + str([p[\"D\"][d_idx] for d_idx in list(reversed(D_applied))])\n",
        "  return \"El sistema no puede generar la molécula \" + str(m0)"
      ],
      "metadata": {
        "id": "UdZjPIg5ixOw"
      },
      "execution_count": 8,
      "outputs": []
    },
    {
      "cell_type": "markdown",
      "source": [
        "# Sistemas de stickers no regulares"
      ],
      "metadata": {
        "id": "YUjhqpC65xrc"
      }
    },
    {
      "cell_type": "code",
      "source": [
        "def isComplementary(a,b):\n",
        "  if a == b:\n",
        "    return True\n",
        "  return False"
      ],
      "metadata": {
        "id": "gkFMwZxmlmXY"
      },
      "execution_count": 9,
      "outputs": []
    },
    {
      "cell_type": "code",
      "source": [
        "V1 = {'a','b'}\n",
        "\n",
        "d10 = { 'l': ['a','a'], 'r': ['a','a']}\n",
        "d11 = { 'l': ['b','b'], 'r': ['b','b']}\n",
        "D1 = ( d10, d11 )\n",
        "\n",
        "A1 = ['a','a']\n",
        "\n",
        "p_no_regular_1 = { 'V':V1, 'A':A1, 'Y':isComplementary, 'D':D1 }"
      ],
      "metadata": {
        "id": "l7AOay1XlqFw"
      },
      "execution_count": 10,
      "outputs": []
    },
    {
      "cell_type": "code",
      "source": [
        "V2 = {'a','b','c'}\n",
        "\n",
        "d20 = { 'l': ['b',''], 'r': ['b','']}\n",
        "d21 = { 'l': ['c',''], 'r': ['','']}\n",
        "d22 = { 'l': ['','b'], 'r': ['','']}\n",
        "d23 = { 'l': ['','c'], 'r': ['','b']}\n",
        "D2 = ( d20, d21, d22, d23 )\n",
        "\n",
        "A2 = ['a','a']\n",
        "\n",
        "p_no_regular_2 = { 'V':V2, 'A':A2, 'Y':isComplementary, 'D':D2 }"
      ],
      "metadata": {
        "id": "3qwsmZSjmMrn"
      },
      "execution_count": 11,
      "outputs": []
    },
    {
      "cell_type": "code",
      "source": [
        "V3 = {'a','b','c'}\n",
        "\n",
        "d30 = { 'l': ['a',''], 'r': ['b','']}\n",
        "d31 = { 'l': ['',''], 'r': ['c','']}\n",
        "d32 = { 'l': ['',''], 'r': ['','b']}\n",
        "d33 = { 'l': ['','a'], 'r': ['','c']}\n",
        "D3 = ( d30, d31, d32, d33 )\n",
        "\n",
        "A3 = ['a','a']\n",
        "\n",
        "p_no_regular_3 = { 'V':V3, 'A':A3, 'Y':isComplementary, 'D':D3 }"
      ],
      "metadata": {
        "id": "oVt7ZsaFmgNx"
      },
      "execution_count": 12,
      "outputs": []
    },
    {
      "cell_type": "code",
      "source": [
        "w = \"babbabbab\"\n",
        "m0 = [w,w]\n",
        "m = list(m0)\n",
        "\n",
        "print(\"SISTEMA DE STICKERS NO REGULAR p1\")\n",
        "print(CanGenerate(p_no_regular_1, m0, 100000))\n",
        "\n",
        "w = \"ccbbabb\"\n",
        "m0 = [str(w),str(w)]\n",
        "m = list(m0)\n",
        "\n",
        "print(\"SISTEMA DE STICKERS NO REGULAR p2\")\n",
        "print(CanGenerate(p_no_regular_2, m0, 100000))\n",
        "\n",
        "w = \"aaabbcc\"\n",
        "m0 = [str(w),str(w)]\n",
        "m = m0\n",
        "\n",
        "print(\"SISTEMA DE STICKERS NO REGULAR p3\")\n",
        "print(CanGenerate(p_no_regular_3, m0, 100000))"
      ],
      "metadata": {
        "colab": {
          "base_uri": "https://localhost:8080/"
        },
        "id": "EXm9lB-Xm4BY",
        "outputId": "ad55dc44-8350-463d-9534-7cdcebd38b76"
      },
      "execution_count": 13,
      "outputs": [
        {
          "output_type": "stream",
          "name": "stdout",
          "text": [
            "SISTEMA DE STICKERS NO REGULAR p1\n",
            "El sistema genera la molécula ['babbabbab', 'babbabbab'] a partir del axioma ['a', 'a'] aplicando los dominoes [{'l': ['b', 'b'], 'r': ['b', 'b']}, {'l': ['b', 'b'], 'r': ['b', 'b']}, {'l': ['a', 'a'], 'r': ['a', 'a']}, {'l': ['b', 'b'], 'r': ['b', 'b']}]\n",
            "SISTEMA DE STICKERS NO REGULAR p2\n",
            "El sistema genera la molécula ['ccbbabb', 'ccbbabb'] a partir del axioma ['a', 'a'] aplicando los dominoes [{'l': ['', 'b'], 'r': ['', '']}, {'l': ['', 'b'], 'r': ['', '']}, {'l': ['', 'c'], 'r': ['', 'b']}, {'l': ['', 'c'], 'r': ['', 'b']}, {'l': ['b', ''], 'r': ['b', '']}, {'l': ['b', ''], 'r': ['b', '']}, {'l': ['c', ''], 'r': ['', '']}, {'l': ['c', ''], 'r': ['', '']}]\n",
            "SISTEMA DE STICKERS NO REGULAR p3\n",
            "El sistema genera la molécula ['aaabbcc', 'aaabbcc'] a partir del axioma ['a', 'a'] aplicando los dominoes [{'l': ['', ''], 'r': ['', 'b']}, {'l': ['', ''], 'r': ['', 'b']}, {'l': ['', 'a'], 'r': ['', 'c']}, {'l': ['', 'a'], 'r': ['', 'c']}, {'l': ['a', ''], 'r': ['b', '']}, {'l': ['a', ''], 'r': ['b', '']}, {'l': ['', ''], 'r': ['c', '']}, {'l': ['', ''], 'r': ['c', '']}]\n"
          ]
        }
      ]
    },
    {
      "cell_type": "markdown",
      "source": [
        "# Sistemas de stickers regulares"
      ],
      "metadata": {
        "id": "1mIDHRNy5rtM"
      }
    },
    {
      "cell_type": "code",
      "source": [
        "def isComplementary(a,b):\n",
        "  if a == b:\n",
        "    return True\n",
        "  return False"
      ],
      "metadata": {
        "id": "eSmV11RW6IeE"
      },
      "execution_count": 14,
      "outputs": []
    },
    {
      "cell_type": "code",
      "source": [
        "V1 = {'a','b'}\n",
        "\n",
        "d10 = { 'l': ['',''], 'r': ['a','a']}\n",
        "d11 = { 'l': ['',''], 'r': ['b','b']}\n",
        "D1 = ( d10, d11 )\n",
        "\n",
        "A1 = ['a','a']\n",
        "\n",
        "p_regular_1 = { 'V':V1, 'A':A1, 'Y':isComplementary, 'D':D1 }"
      ],
      "metadata": {
        "id": "q2qeE2cI5pAu"
      },
      "execution_count": 15,
      "outputs": []
    },
    {
      "cell_type": "code",
      "source": [
        "V2 = {'a','b','c'}\n",
        "\n",
        "d20 = { 'l': ['',''], 'r': ['b','']}\n",
        "d21 = { 'l': ['',''], 'r': ['c','']}\n",
        "d22 = { 'l': ['',''], 'r': ['','b']}\n",
        "d23 = { 'l': ['',''], 'r': ['','c']}\n",
        "D2 = ( d20, d21, d22, d23 )\n",
        "\n",
        "A2 = ['a','a']\n",
        "\n",
        "p_regular_2 = { 'V':V2, 'A':A2, 'Y':isComplementary, 'D':D2 }"
      ],
      "metadata": {
        "id": "zePiA_XY6Y4V"
      },
      "execution_count": 16,
      "outputs": []
    },
    {
      "cell_type": "code",
      "source": [
        "w1 = \"aaabbb\"\n",
        "w2 = \"abbccc\"\n",
        "w3 = \"abbbbb\"\n",
        "w4 = \"baaaaa\"\n",
        "\n",
        "m1 = [w1,w1]\n",
        "m2 = [w2,w2]\n",
        "m3 = [w3,w3]\n",
        "m4 = [w4,w4]\n",
        "\n",
        "print(\"SISTEMA DE STICKERS REGULAR p1\")\n",
        "print(CanGenerate(p_regular_1, m1, 10000))\n",
        "print(CanGenerate(p_regular_1, m2, 10000))\n",
        "print(CanGenerate(p_regular_1, m3, 10000))\n",
        "print(CanGenerate(p_regular_1, m4, 10000))\n",
        "print('\\n')\n",
        "\n",
        "m1 = [w1,w1]\n",
        "m2 = [w2,w2]\n",
        "m3 = [w3,w3]\n",
        "m4 = [w4,w4]\n",
        "\n",
        "print(\"SISTEMA DE STICKERS REGULAR p2\")\n",
        "print(CanGenerate(p_regular_2, m1, 10000))\n",
        "print(CanGenerate(p_regular_2, m2, 10000))\n",
        "print(CanGenerate(p_regular_2, m3, 10000))\n",
        "print(CanGenerate(p_regular_2, m4, 10000))\n",
        "print('\\n')"
      ],
      "metadata": {
        "colab": {
          "base_uri": "https://localhost:8080/"
        },
        "id": "wYuKmnO46_kn",
        "outputId": "c4fd1933-26f3-42d1-bc7f-d6026c046b0a"
      },
      "execution_count": 17,
      "outputs": [
        {
          "output_type": "stream",
          "name": "stdout",
          "text": [
            "SISTEMA DE STICKERS REGULAR p1\n",
            "El sistema genera la molécula ['aaabbb', 'aaabbb'] a partir del axioma ['a', 'a'] aplicando los dominoes [{'l': ['', ''], 'r': ['a', 'a']}, {'l': ['', ''], 'r': ['a', 'a']}, {'l': ['', ''], 'r': ['b', 'b']}, {'l': ['', ''], 'r': ['b', 'b']}, {'l': ['', ''], 'r': ['b', 'b']}]\n",
            "La molécula ['abbccc', 'abbccc'] contiene caracteres que no están en el vocabulario\n",
            "El sistema genera la molécula ['abbbbb', 'abbbbb'] a partir del axioma ['a', 'a'] aplicando los dominoes [{'l': ['', ''], 'r': ['b', 'b']}, {'l': ['', ''], 'r': ['b', 'b']}, {'l': ['', ''], 'r': ['b', 'b']}, {'l': ['', ''], 'r': ['b', 'b']}, {'l': ['', ''], 'r': ['b', 'b']}]\n",
            "El sistema no puede generar la molécula ['baaaaa', 'baaaaa']\n",
            "\n",
            "\n",
            "SISTEMA DE STICKERS REGULAR p2\n",
            "El sistema no puede generar la molécula ['aaabbb', 'aaabbb']\n",
            "El sistema genera la molécula ['abbccc', 'abbccc'] a partir del axioma ['a', 'a'] aplicando los dominoes [{'l': ['', ''], 'r': ['', 'b']}, {'l': ['', ''], 'r': ['', 'b']}, {'l': ['', ''], 'r': ['', 'c']}, {'l': ['', ''], 'r': ['', 'c']}, {'l': ['', ''], 'r': ['', 'c']}, {'l': ['', ''], 'r': ['b', '']}, {'l': ['', ''], 'r': ['b', '']}, {'l': ['', ''], 'r': ['c', '']}, {'l': ['', ''], 'r': ['c', '']}, {'l': ['', ''], 'r': ['c', '']}]\n",
            "El sistema genera la molécula ['abbbbb', 'abbbbb'] a partir del axioma ['a', 'a'] aplicando los dominoes [{'l': ['', ''], 'r': ['', 'b']}, {'l': ['', ''], 'r': ['', 'b']}, {'l': ['', ''], 'r': ['', 'b']}, {'l': ['', ''], 'r': ['', 'b']}, {'l': ['', ''], 'r': ['', 'b']}, {'l': ['', ''], 'r': ['b', '']}, {'l': ['', ''], 'r': ['b', '']}, {'l': ['', ''], 'r': ['b', '']}, {'l': ['', ''], 'r': ['b', '']}, {'l': ['', ''], 'r': ['b', '']}]\n",
            "El sistema no puede generar la molécula ['baaaaa', 'baaaaa']\n",
            "\n",
            "\n"
          ]
        }
      ]
    }
  ]
}