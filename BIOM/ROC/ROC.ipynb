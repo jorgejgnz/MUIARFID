{
  "nbformat": 4,
  "nbformat_minor": 0,
  "metadata": {
    "colab": {
      "name": "Ejercicio_Tema2_Modificado.ipynb",
      "provenance": [],
      "collapsed_sections": []
    },
    "kernelspec": {
      "name": "python3",
      "display_name": "Python 3"
    },
    "language_info": {
      "name": "python"
    }
  },
  "cells": [
    {
      "cell_type": "code",
      "execution_count": 1,
      "metadata": {
        "id": "kRxygts1BM7w"
      },
      "outputs": [],
      "source": [
        "from __future__ import print_function\n",
        "\n",
        "import os\n",
        "import math\n",
        "import numpy as np\n",
        "import matplotlib.pyplot as plt\n",
        "from statistics import mean, variance"
      ]
    },
    {
      "cell_type": "markdown",
      "source": [
        "# CARGA DE DATOS"
      ],
      "metadata": {
        "id": "RRQK-6n-hItv"
      }
    },
    {
      "cell_type": "code",
      "source": [
        "# Parseamos el fichero del modelo y devolvemos una lista con los scores\n",
        "def GetScores(path):\n",
        "  with open(path) as file:\n",
        "    lines = file.readlines()\n",
        "    filtered_lines = np.asarray([])\n",
        "    for line in lines:\n",
        "      # usamos solo el valor de score sin los \\n\n",
        "      line = line.split(\" \")[1]\n",
        "      line = line.split(\"\\n\")[0]\n",
        "      filtered_lines = np.insert(filtered_lines,0,float(line))\n",
        "    return np.array(filtered_lines)"
      ],
      "metadata": {
        "id": "S8w2MSGaBcD2"
      },
      "execution_count": 3,
      "outputs": []
    },
    {
      "cell_type": "code",
      "source": [
        "path_clientsA = \"scoresA_clientes\"\n",
        "path_impostorsA = \"scoresA_impostores\"\n",
        "path_clientsB = \"scoresB_clientes\"\n",
        "path_impostorsB = \"scoresB_impostores\"\n",
        "\n",
        "clientsA = GetScores(path_clientsA)\n",
        "impostorsA = GetScores(path_impostorsA)\n",
        "clientsB = GetScores(path_clientsB)\n",
        "impostorsB = GetScores(path_impostorsB)"
      ],
      "metadata": {
        "id": "P9bLThulEtI7"
      },
      "execution_count": 4,
      "outputs": []
    },
    {
      "cell_type": "markdown",
      "source": [
        "# IMPLEMENTACIÓN"
      ],
      "metadata": {
        "id": "Ia0mHVPXg-E5"
      }
    },
    {
      "cell_type": "code",
      "source": [
        "def DataSummary(clients, impostors):\n",
        "  print(\"CLIENTS\")\n",
        "  print(clients.shape)\n",
        "  print([min(clientsA),max(clientsA)])\n",
        "  print(\"IMPOSTORS\")\n",
        "  print(impostors.shape)\n",
        "  print([min(impostorsA),max(impostorsA)])\n",
        "\n",
        "def GetFPFN(scores, thr):\n",
        "  FP = 0\n",
        "  FN = 0\n",
        "  for i in range(len(scores)):\n",
        "    if (scores[i,0] > thr) & (scores[i,1] == 'i'):\n",
        "      FP += 1\n",
        "    if (scores[i,0] <= thr) & (scores[i,1] == 'c'):\n",
        "      FN += 1\n",
        "  return FP, FN\n",
        "\n",
        "def GetRatios(clients, impostors):\n",
        "  num_clients = len(clients)\n",
        "  num_impostors = len(impostors)\n",
        "  # Ordered list of labeled scores\n",
        "  labeled_clients = np.array([(score,'c') for score in clients])\n",
        "  labeled_impostors = np.array([(score,'i') for score in impostors])  \n",
        "  scores = np.concatenate((labeled_clients, labeled_impostors))\n",
        "  scores = scores[scores[:,0].argsort()]\n",
        "  # List of thresholds\n",
        "  thresholds = np.unique(scores[:,0])\n",
        "  # List of FNR and FPR for each threshold\n",
        "  FPRs = np.array([])\n",
        "  FNRs = np.array([])\n",
        "  for thr in thresholds:\n",
        "    FP, FN = GetFPFN(scores, thr)\n",
        "    FPRs = np.append(FPRs, FP/num_impostors)\n",
        "    FNRs = np.append(FNRs, FN/num_clients)\n",
        "  return scores, thresholds, FPRs, FNRs"
      ],
      "metadata": {
        "id": "c2rXGHWhHqQe"
      },
      "execution_count": 5,
      "outputs": []
    },
    {
      "cell_type": "code",
      "source": [
        "def PlotRoc(FPRs, FNRs, show_dots=False):\n",
        "  x = np.concatenate(([1], FPRs, [0]))\n",
        "  y = np.concatenate(([1], 1-FNRs, [0]))\n",
        "  if show_dots:\n",
        "    plt.plot(x, y, 'ro', markerfacecolor='none')\n",
        "  else:\n",
        "    plt.plot(x, y)\n",
        "  plt.plot([0,1], [0,1], color=\"green\", linestyle=\"--\")\n",
        "  plt.xlim(0.0, 1.0)\n",
        "  plt.ylim(0.0, 1.0)\n",
        "  plt.xlabel('FP')\n",
        "  plt.ylabel('1-FN') \n",
        "  plt.show()"
      ],
      "metadata": {
        "id": "UnqU0NzFhRGu"
      },
      "execution_count": 6,
      "outputs": []
    },
    {
      "cell_type": "code",
      "source": [
        "def FPwhenFN(FPRs, FNRs, fnr, optimistic=True):\n",
        "  # FP(FN=x) FPR for the thresold where FNR is closest to x (optimism as parameter)\n",
        "  idx = -1\n",
        "  idxs = np.where(FNRs == fnr)[0]\n",
        "  if len(idxs) == 0:\n",
        "    # Find closest\n",
        "    diff = -1\n",
        "    for i in range(len(FNRs)):\n",
        "      if diff < 0 or abs(FNRs[i] - fnr) < diff:\n",
        "        diff = abs(FNRs[i] - fnr)\n",
        "        idx = i\n",
        "  elif len(idxs) == 1:\n",
        "    # Only one match\n",
        "    idx = idxs[0]\n",
        "  elif len(idxs) > 1:\n",
        "    # Multiple matches, consider optimism\n",
        "    if optimistic:\n",
        "      idx = np.max(idxs) # Lower FP\n",
        "    else:\n",
        "      idx = np.min(idxs)\n",
        "  return idx\n",
        "\n",
        "def FNwhenFP(FPRs, FNRs, fpr, optimistic=True):\n",
        "  # FN(FP=x) FNR for the thresold where FPR is closest to x (optimism as parameter)\n",
        "  idx = -1\n",
        "  idxs = np.where(FPRs == fpr)[0]\n",
        "  if len(idxs) == 0:\n",
        "    # Find closest\n",
        "    diff = -1\n",
        "    for i in range(len(FPRs)):\n",
        "      if diff < 0 or abs(FPRs[i] - fpr) < diff:\n",
        "        diff = abs(FPRs[i] - fpr)\n",
        "        idx = i\n",
        "  elif len(idxs) == 1:\n",
        "    # Only one match\n",
        "    idx = idxs[0]\n",
        "  elif len(idxs) > 1:\n",
        "    # Multiple matches, consider optimism\n",
        "    if optimistic:\n",
        "      idx = np.max(idxs) # Lower FP \n",
        "    else:\n",
        "      idx = np.min(idxs)\n",
        "  return idx\n",
        "\n",
        "def FPeqFN(FPRs, FNRs, optimistic = True):\n",
        "  # FP=FN threshold that minimizes diff between FPR and FNR\n",
        "  idx = -1\n",
        "  idxs = np.where(FPRs == FNRs)[0]\n",
        "  if len(idxs) == 0:\n",
        "    # Find closest\n",
        "    diff = -1\n",
        "    for i in range(len(FPRs)):\n",
        "      if diff < 0 or abs(FPRs[i] - FNRs[i]) < diff:\n",
        "        diff = abs(FPRs[i] - FNRs[i])\n",
        "        idx = i\n",
        "  elif len(idxs) == 1:\n",
        "    # Only one match\n",
        "    idx = idxs[0]\n",
        "  elif len(idxs) > 1:\n",
        "    # Multiple matches, consider optimism\n",
        "    if optimistic:\n",
        "      idx = max(idxs) # Lower FP \n",
        "    else:\n",
        "      idx = min(idxs)\n",
        "  return idx"
      ],
      "metadata": {
        "id": "ws0UmZsjhTH2"
      },
      "execution_count": 7,
      "outputs": []
    },
    {
      "cell_type": "code",
      "source": [
        "def DPrime(clients, impostors):\n",
        "  avg_c = mean(clients)\n",
        "  avg_i = mean(impostors)\n",
        "  var_c = variance(clients)\n",
        "  var_i = variance(impostors)\n",
        "  return (avg_c - avg_i) / math.sqrt(var_c + var_i)"
      ],
      "metadata": {
        "id": "c9ecxn9lhWYe"
      },
      "execution_count": 8,
      "outputs": []
    },
    {
      "cell_type": "code",
      "source": [
        "def H(sc, si):\n",
        "  if sc > si:\n",
        "    return 1\n",
        "  elif sc == si:\n",
        "    return 0.5\n",
        "  else:\n",
        "    return 0\n",
        "\n",
        "def AUC(clients, impostors):\n",
        "  return (1/(len(clients)*len(impostors)))*(sum([sum([H(c,i) for i in impostors]) for c in clients]))"
      ],
      "metadata": {
        "id": "1r76vJ1HYqb_"
      },
      "execution_count": 9,
      "outputs": []
    },
    {
      "cell_type": "markdown",
      "source": [
        "# PRUEBAS - MODELO A"
      ],
      "metadata": {
        "id": "-CIRg91rhZ0e"
      }
    },
    {
      "cell_type": "code",
      "source": [
        "clients = clientsA\n",
        "impostors = impostorsA\n",
        "\n",
        "DataSummary(clients,impostors)\n",
        "scores, thresholds, FPRs, FNRs = GetRatios(clients, impostors)\n",
        "\n",
        "PlotRoc(FPRs, FNRs, show_dots=False)\n",
        "\n",
        "idx = FPwhenFN(FPRs, FNRs, 0.2, optimistic = True)\n",
        "print(f\"FP(FN=0.2): At threshold {thresholds[idx]}, FN={FNRs[idx]} and FP={FPRs[idx]}\")\n",
        "\n",
        "idx = FNwhenFP(FPRs, FNRs, 0.2, optimistic = True)\n",
        "print(f\"FN(FP=0.2): At threshold {thresholds[idx]}, FN={FNRs[idx]} and FP={FPRs[idx]}\")\n",
        "\n",
        "idx = FPeqFN(FPRs, FNRs, optimistic = True)\n",
        "print(f\"FP=FN: At threshold {thresholds[idx]}, FPR={FPRs[idx]} and FNR={FNRs[idx]} (Diff={abs(FPRs[idx]-FNRs[idx])})\")\n",
        "\n",
        "print(f\"D-prime: {DPrime(clients, impostors)}\")\n",
        "print(f\"AUC: {AUC(clients, impostors)}\")"
      ],
      "metadata": {
        "colab": {
          "base_uri": "https://localhost:8080/",
          "height": 474
        },
        "id": "uGlwAB1EgsTm",
        "outputId": "54a93a5b-3f64-49bf-e2ca-27106c3f8ee2"
      },
      "execution_count": 10,
      "outputs": [
        {
          "output_type": "stream",
          "name": "stdout",
          "text": [
            "CLIENTS\n",
            "(1430,)\n",
            "[0.000743, 1.0]\n",
            "IMPOSTORS\n",
            "(1560,)\n",
            "[0.0, 0.252618]\n"
          ]
        },
        {
          "output_type": "display_data",
          "data": {
            "text/plain": [
              "<Figure size 432x288 with 1 Axes>"
            ],
            "image/png": "[encoded data removed]"
          },
          "metadata": {
            "needs_background": "light"
          }
        },
        {
          "output_type": "stream",
          "name": "stdout",
          "text": [
            "FP(FN=0.2): At threshold 0.050144, FN=0.2 and FP=0.2032051282051282\n",
            "FN(FP=0.2): At threshold 0.050524, FN=0.2020979020979021 and FP=0.2\n",
            "FP=FN: At threshold 0.050333, FPR=0.2012820512820513 and FNR=0.2013986013986014 (Diff=0.0001165501165501237)\n",
            "D-prime: 0.7596882641658939\n",
            "AUC: 0.8831634391249776\n"
          ]
        }
      ]
    },
    {
      "cell_type": "markdown",
      "source": [
        "# PRUEBAS - MODELO B"
      ],
      "metadata": {
        "id": "fKALh-Glh8yQ"
      }
    },
    {
      "cell_type": "code",
      "source": [
        "clients = clientsB\n",
        "impostors = impostorsB\n",
        "\n",
        "DataSummary(clients,impostors)\n",
        "scores, thresholds, FPRs, FNRs = GetRatios(clients, impostors)\n",
        "\n",
        "PlotRoc(FPRs, FNRs, show_dots=False)\n",
        "\n",
        "idx = FPwhenFN(FPRs, FNRs, 0.2, optimistic = True)\n",
        "print(f\"FP(FN=0.2): At threshold {thresholds[idx]}, FN={FNRs[idx]} and FP={FPRs[idx]}\")\n",
        "\n",
        "idx = FNwhenFP(FPRs, FNRs, 0.2, optimistic = True)\n",
        "print(f\"FN(FP=0.2): At threshold {thresholds[idx]}, FN={FNRs[idx]} and FP={FPRs[idx]}\")\n",
        "\n",
        "idx = FPeqFN(FPRs, FNRs, optimistic = True)\n",
        "print(f\"FP=FN: At threshold {thresholds[idx]}, FPR={FPRs[idx]} and FNR={FNRs[idx]} (Diff={abs(FPRs[idx]-FNRs[idx])})\")\n",
        "\n",
        "print(f\"D-prime: {DPrime(clients, impostors)}\")\n",
        "print(f\"AUC: {AUC(clients, impostors)}\")"
      ],
      "metadata": {
        "colab": {
          "base_uri": "https://localhost:8080/",
          "height": 474
        },
        "id": "auFdywK-iCI4",
        "outputId": "e2859591-f3cc-4215-df9d-05f87c8ef09a"
      },
      "execution_count": 11,
      "outputs": [
        {
          "output_type": "stream",
          "name": "stdout",
          "text": [
            "CLIENTS\n",
            "(1430,)\n",
            "[0.000743, 1.0]\n",
            "IMPOSTORS\n",
            "(1560,)\n",
            "[0.0, 0.252618]\n"
          ]
        },
        {
          "output_type": "display_data",
          "data": {
            "text/plain": [
              "<Figure size 432x288 with 1 Axes>"
            ],
            "image/png": "[encoded data removed]"
          },
          "metadata": {
            "needs_background": "light"
          }
        },
        {
          "output_type": "stream",
          "name": "stdout",
          "text": [
            "FP(FN=0.2): At threshold 0.04431, FN=0.2 and FP=0.2012820512820513\n",
            "FN(FP=0.2): At threshold 0.045244, FN=0.2055944055944056 and FP=0.2\n",
            "FP=FN: At threshold 0.044359, FPR=0.2012820512820513 and FNR=0.2006993006993007 (Diff=0.0005827505827505908)\n",
            "D-prime: 0.8731771850825502\n",
            "AUC: 0.8830825264479111\n"
          ]
        }
      ]
    }
  ]
}